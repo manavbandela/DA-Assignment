{
  "nbformat": 4,
  "nbformat_minor": 0,
  "metadata": {
    "colab": {
      "provenance": []
    },
    "kernelspec": {
      "name": "python3",
      "display_name": "Python 3"
    },
    "language_info": {
      "name": "python"
    }
  },
  "cells": [
    {
      "cell_type": "code",
      "execution_count": 29,
      "metadata": {
        "id": "2kcjbuNnezaK"
      },
      "outputs": [],
      "source": [
        "def create_diamond(n):\n",
        "  # For the upper half of the diamond\n",
        "  for i in range(1, n+1):\n",
        "    print(\" \" * (n-i), end=\"\")\n",
        "    for j in range(i):\n",
        "      print(chr(65 + j),end=\" \")\n",
        "    print()\n",
        "  # For the lower half of the diamond\n",
        "  for i in range(n-1,0,-1):\n",
        "    print(\" \" * (n-i), end =\"\")\n",
        "    for j in range(i):\n",
        "       print(chr(65 + j),end=\" \")\n",
        "    print()"
      ]
    },
    {
      "cell_type": "code",
      "source": [
        "n = int(input(\"Enter number: \"))\n",
        "create_diamond(n)"
      ],
      "metadata": {
        "colab": {
          "base_uri": "https://localhost:8080/"
        },
        "id": "Jql6ycnDhPMW",
        "outputId": "de204877-e377-439e-f25a-52d44e7c168a"
      },
      "execution_count": 32,
      "outputs": [
        {
          "output_type": "stream",
          "name": "stdout",
          "text": [
            "Enter number: 3\n",
            "  A \n",
            " A B \n",
            "A B C \n",
            " A B \n",
            "  A \n"
          ]
        }
      ]
    },
    {
      "cell_type": "code",
      "source": [
        "n = int(input(\"Enter number: \"))\n",
        "create_diamond(n)"
      ],
      "metadata": {
        "colab": {
          "base_uri": "https://localhost:8080/"
        },
        "id": "MzDgg4Ixk0bX",
        "outputId": "3d706bab-c037-4996-c6c4-c264bf04980f"
      },
      "execution_count": 33,
      "outputs": [
        {
          "output_type": "stream",
          "name": "stdout",
          "text": [
            "Enter number: 5\n",
            "    A \n",
            "   A B \n",
            "  A B C \n",
            " A B C D \n",
            "A B C D E \n",
            " A B C D \n",
            "  A B C \n",
            "   A B \n",
            "    A \n"
          ]
        }
      ]
    },
    {
      "cell_type": "code",
      "source": [],
      "metadata": {
        "id": "wklCmYjLlLq5"
      },
      "execution_count": null,
      "outputs": []
    }
  ]
}